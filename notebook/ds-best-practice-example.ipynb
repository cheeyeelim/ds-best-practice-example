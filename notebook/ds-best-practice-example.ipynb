{
 "cells": [
  {
   "cell_type": "markdown",
   "metadata": {},
   "source": [
    "# (1) Run using command line"
   ]
  },
  {
   "cell_type": "code",
   "execution_count": null,
   "metadata": {},
   "outputs": [],
   "source": [
    "!poetry run ds-best-practice-example\n",
    "\n",
    "# If not using poetry\n",
    "#ds-best-practice-example"
   ]
  },
  {
   "cell_type": "markdown",
   "metadata": {},
   "source": [
    "# (2) Run using Jupyter Notebook"
   ]
  },
  {
   "cell_type": "markdown",
   "metadata": {},
   "source": [
    "Note that hydra only works with Jupyter Notebook with Compose API, but it is not implemented in this package.\n",
    "Use direct imports to use the relevant functions."
   ]
  },
  {
   "cell_type": "code",
   "execution_count": null,
   "metadata": {},
   "outputs": [],
   "source": [
    "import hydra\n",
    "\n",
    "from ezml.data import prepare_data\n",
    "from ezml.model import train_model\n",
    "from ezml.diagnostic import diagnose_model"
   ]
  },
  {
   "cell_type": "code",
   "execution_count": null,
   "metadata": {},
   "outputs": [],
   "source": [
    "# Use Hydra config with Compose API\n",
    "hydra.initialize(version_base=None, config_path=\"../input/conf\")\n",
    "cfg = hydra.compose(\n",
    "    config_name=\"config\",\n",
    "    overrides=[\"data.file_path=../input/data/diabetes.csv\", \"model.file_path=../output/model/linreg_diabetes.joblib\"]\n",
    ")"
   ]
  },
  {
   "cell_type": "code",
   "execution_count": null,
   "metadata": {},
   "outputs": [],
   "source": [
    "# Train linear regression with default data\n",
    "X_train, X_test, y_train, y_test = prepare_data(cfg)\n",
    "model = train_model(cfg, X_train, y_train)\n",
    "diagnose_model(X_test, y_test, model)"
   ]
  },
  {
   "cell_type": "code",
   "execution_count": null,
   "metadata": {},
   "outputs": [],
   "source": []
  }
 ],
 "metadata": {
  "kernelspec": {
   "display_name": ".venv",
   "language": "python",
   "name": "python3"
  },
  "language_info": {
   "codemirror_mode": {
    "name": "ipython",
    "version": 3
   },
   "file_extension": ".py",
   "mimetype": "text/x-python",
   "name": "python",
   "nbconvert_exporter": "python",
   "pygments_lexer": "ipython3",
   "version": "3.9.7"
  }
 },
 "nbformat": 4,
 "nbformat_minor": 2
}
