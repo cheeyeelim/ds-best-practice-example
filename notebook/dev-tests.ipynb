{
 "cells": [
  {
   "cell_type": "code",
   "execution_count": null,
   "metadata": {},
   "outputs": [],
   "source": [
    "import hypothesis\n",
    "import hypothesis.strategies as st\n",
    "from hypothesis.extra.pandas import data_frames, columns"
   ]
  },
  {
   "cell_type": "code",
   "execution_count": null,
   "metadata": {},
   "outputs": [],
   "source": [
    "data_frames(\n",
    "    columns=columns([\"colA\", \"colB\"], dtype=str),\n",
    "    rows=st.tuples(\n",
    "        st.from_regex(\"str_[a-z]\", fullmatch=True),\n",
    "        st.floats(min_value=-1.0, max_value=1.0)\n",
    "    )\n",
    ").example()"
   ]
  },
  {
   "cell_type": "code",
   "execution_count": null,
   "metadata": {},
   "outputs": [],
   "source": [
    "from hydra import initialize, compose\n",
    "from ezml.data import prepare_data"
   ]
  },
  {
   "cell_type": "code",
   "execution_count": null,
   "metadata": {},
   "outputs": [],
   "source": [
    "with initialize(version_base=None, config_path=\"../input/conf\"):\n",
    "    cfg = compose(config_name=\"config\",overrides=[\"data.file_path=../input/data/diabetes.csv\", \"model.file_path=../output/model/linreg_diabetes.joblib\"])\n",
    "\n",
    "    X_train, X_test, y_train, y_test = prepare_data(cfg=cfg)"
   ]
  },
  {
   "cell_type": "code",
   "execution_count": null,
   "metadata": {},
   "outputs": [],
   "source": [
    "isinstance(X_test, pd.DataFrame)"
   ]
  },
  {
   "cell_type": "code",
   "execution_count": null,
   "metadata": {},
   "outputs": [],
   "source": []
  },
  {
   "cell_type": "code",
   "execution_count": null,
   "metadata": {},
   "outputs": [],
   "source": []
  }
 ],
 "metadata": {
  "kernelspec": {
   "display_name": ".venv",
   "language": "python",
   "name": "python3"
  },
  "language_info": {
   "codemirror_mode": {
    "name": "ipython",
    "version": 3
   },
   "file_extension": ".py",
   "mimetype": "text/x-python",
   "name": "python",
   "nbconvert_exporter": "python",
   "pygments_lexer": "ipython3",
   "version": "3.9.7"
  }
 },
 "nbformat": 4,
 "nbformat_minor": 2
}
